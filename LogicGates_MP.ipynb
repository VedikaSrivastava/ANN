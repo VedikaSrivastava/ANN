{
 "cells": [
  {
   "cell_type": "markdown",
   "metadata": {},
   "source": [
    "Author:Vedika Srivastava<br>\n",
    "Date created: 29/07/21<br>\n",
    "Title: Logic gates using MP neuron"
   ]
  },
  {
   "cell_type": "code",
   "execution_count": 24,
   "metadata": {},
   "outputs": [],
   "source": [
    "#define logic gate functions\n",
    "def andg(a,b):\n",
    "    w1 = 1\n",
    "    w2 = 1\n",
    "    g = w1*a + w2*b\n",
    "    if g >=2:\n",
    "        print(\"Y = 1\")\n",
    "    else:\n",
    "        print(\"Y = 0\")\n",
    "\n",
    "def org(a,b):\n",
    "    w1 = 1\n",
    "    w2 = 1\n",
    "    g = w1*a + w2*b\n",
    "    if g >=1:\n",
    "        print(\"Y = 1\")\n",
    "    else:\n",
    "        print(\"Y = 0\")\n",
    "        \n",
    "def notg(a):\n",
    "    w1 = -1\n",
    "    g = w1*a\n",
    "    if g >=0:\n",
    "        print(\"Y = 1\")\n",
    "    else:\n",
    "        print(\"Y = 0\") \n",
    "\n",
    "def norg(a,b):\n",
    "    w1 = 1\n",
    "    w2 = 1\n",
    "    g = w1*a + w2*b\n",
    "    if g <1:\n",
    "        print(\"Y = 1\")\n",
    "    else:\n",
    "        print(\"Y = 0\")\n",
    "        \n",
    "def nandg(a,b):\n",
    "    w1 = 1\n",
    "    w2 = 1\n",
    "    g = w1*a + w2*b\n",
    "    if g < 2:\n",
    "        print(\"Y = 1\")\n",
    "    else:\n",
    "        print(\"Y = 0\")  "
   ]
  },
  {
   "cell_type": "code",
   "execution_count": 10,
   "metadata": {},
   "outputs": [],
   "source": [
    "def inputv(c):\n",
    "    a = int(input((\"Enter 1st value: \")))\n",
    "    if (a>1 or a<0):\n",
    "        print(\"Please check input\")\n",
    "    else:    \n",
    "        if c!=3:\n",
    "            b = int(input((\"Enter 2st value: \")))\n",
    "            if (b>1 or b<0):\n",
    "                print(\"Please check input\") \n",
    "            return(a,b)    \n",
    "    return(a)        "
   ]
  },
  {
   "cell_type": "code",
   "execution_count": 11,
   "metadata": {},
   "outputs": [],
   "source": [
    "def gates():\n",
    "    c = int(input(\"Enter your choice 1.AND 2.OR 3.NOT 4.NOR 5.NAND\\n\"))\n",
    "    if c!=3:\n",
    "        a,b = inputv(c)\n",
    "    else:\n",
    "        a = inputv(c)\n",
    "    if c == 1:\n",
    "        andg(a,b)\n",
    "    elif c == 2:\n",
    "        org(a,b)    \n",
    "    elif c == 3:\n",
    "        notg(a)    \n",
    "    elif c == 4:\n",
    "        norg(a,b)  \n",
    "    elif c == 5:\n",
    "        nandg(a,b)\n",
    "    else:\n",
    "        print(\"Please check you choice\")"
   ]
  },
  {
   "cell_type": "code",
   "execution_count": 4,
   "metadata": {},
   "outputs": [
    {
     "name": "stdout",
     "output_type": "stream",
     "text": [
      "Enter your choice 1.AND 2.OR 3.NOT 4.NOR 5.NAND\n",
      "1\n",
      "Enter 1st value: 0\n",
      "Enter 2st value: 1\n",
      "Y = 0\n"
     ]
    }
   ],
   "source": [
    "gates()"
   ]
  },
  {
   "cell_type": "code",
   "execution_count": 6,
   "metadata": {},
   "outputs": [
    {
     "name": "stdout",
     "output_type": "stream",
     "text": [
      "Enter your choice 1.AND 2.OR 3.NOT 4.NOR 5.NAND\n",
      "2\n",
      "Enter 1st value: 0\n",
      "Enter 2st value: 1\n",
      "Y = 1\n"
     ]
    }
   ],
   "source": [
    "gates()"
   ]
  },
  {
   "cell_type": "code",
   "execution_count": 14,
   "metadata": {},
   "outputs": [
    {
     "name": "stdout",
     "output_type": "stream",
     "text": [
      "Enter your choice 1.AND 2.OR 3.NOT 4.NOR 5.NAND\n",
      "3\n",
      "Enter 1st value: 1\n",
      "Y = 0\n"
     ]
    }
   ],
   "source": [
    "gates()"
   ]
  },
  {
   "cell_type": "code",
   "execution_count": 16,
   "metadata": {},
   "outputs": [
    {
     "name": "stdout",
     "output_type": "stream",
     "text": [
      "Enter your choice 1.AND 2.OR 3.NOT 4.NOR 5.NAND\n",
      "3\n",
      "Enter 1st value: 0\n",
      "Y = 1\n"
     ]
    }
   ],
   "source": [
    "gates()"
   ]
  },
  {
   "cell_type": "code",
   "execution_count": 23,
   "metadata": {},
   "outputs": [
    {
     "name": "stdout",
     "output_type": "stream",
     "text": [
      "Enter your choice 1.AND 2.OR 3.NOT 4.NOR 5.NAND\n",
      "4\n",
      "Enter 1st value: 0\n",
      "Enter 2st value: 1\n",
      "Y = 0\n"
     ]
    }
   ],
   "source": [
    "gates()"
   ]
  },
  {
   "cell_type": "code",
   "execution_count": 17,
   "metadata": {},
   "outputs": [
    {
     "name": "stdout",
     "output_type": "stream",
     "text": [
      "Enter your choice 1.AND 2.OR 3.NOT 4.NOR 5.NAND\n",
      "5\n",
      "Enter 1st value: 0\n",
      "Enter 2st value: 1\n",
      "Y = 1\n"
     ]
    }
   ],
   "source": [
    "gates()"
   ]
  },
  {
   "cell_type": "markdown",
   "metadata": {},
   "source": [
    "# Implementing XOR gate"
   ]
  },
  {
   "cell_type": "code",
   "execution_count": 36,
   "metadata": {},
   "outputs": [],
   "source": [
    "def xor(a,b):\n",
    "    z1 = 1 if (a+b>=1) else 0 #OR gate w1 and w2 are 1\n",
    "    z2 = 1 if (a+b<2) else 0 #NAND gate w1 and w2 are 1\n",
    "    g = 1 if (z1+z2>=2) else 0 #AND gate w1 and w2 are 1\n",
    "    print(\"Y =\",g)"
   ]
  },
  {
   "cell_type": "code",
   "execution_count": 37,
   "metadata": {},
   "outputs": [
    {
     "name": "stdout",
     "output_type": "stream",
     "text": [
      "Y = 1\n"
     ]
    }
   ],
   "source": [
    "xor(0,1)"
   ]
  },
  {
   "cell_type": "code",
   "execution_count": 38,
   "metadata": {},
   "outputs": [
    {
     "name": "stdout",
     "output_type": "stream",
     "text": [
      "Y = 0\n"
     ]
    }
   ],
   "source": [
    "xor(0,0)"
   ]
  },
  {
   "cell_type": "code",
   "execution_count": 39,
   "metadata": {},
   "outputs": [
    {
     "name": "stdout",
     "output_type": "stream",
     "text": [
      "Y = 0\n"
     ]
    }
   ],
   "source": [
    "xor(1,1)"
   ]
  },
  {
   "cell_type": "code",
   "execution_count": 40,
   "metadata": {},
   "outputs": [
    {
     "name": "stdout",
     "output_type": "stream",
     "text": [
      "Y = 1\n"
     ]
    }
   ],
   "source": [
    "xor(1,0)"
   ]
  }
 ],
 "metadata": {
  "kernelspec": {
   "display_name": "Python 3",
   "language": "python",
   "name": "python3"
  },
  "language_info": {
   "codemirror_mode": {
    "name": "ipython",
    "version": 3
   },
   "file_extension": ".py",
   "mimetype": "text/x-python",
   "name": "python",
   "nbconvert_exporter": "python",
   "pygments_lexer": "ipython3",
   "version": "3.8.5"
  }
 },
 "nbformat": 4,
 "nbformat_minor": 4
}
